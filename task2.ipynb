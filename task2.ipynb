{
 "cells": [
  {
   "cell_type": "markdown",
   "id": "f2308896-de45-476b-bb89-4726650d6857",
   "metadata": {},
   "source": [
    "# Задание 2\n",
    "## 1. Работа с таблицей\n"
   ]
  },
  {
   "cell_type": "markdown",
   "id": "5a046981-545c-4774-bc0f-dd08cc09bbcc",
   "metadata": {},
   "source": [
    "### 1.1 Чтение таблицы\n"
   ]
  },
  {
   "cell_type": "code",
   "execution_count": 31,
   "id": "1d58603c-3ac2-45b2-a4c1-14908f1816ba",
   "metadata": {},
   "outputs": [],
   "source": [
    "import pandas as pd\n",
    "import matplotlib.pyplot as plt"
   ]
  },
  {
   "cell_type": "code",
   "execution_count": 32,
   "id": "a747f044-236d-495c-9de3-1f6a4a7f8d92",
   "metadata": {},
   "outputs": [],
   "source": [
    "file_path = \"../hw2/TRB_10_7/TRB_10_7.tsv\"\n",
    "data = pd.read_csv(file_path, sep='\\t')"
   ]
  },
  {
   "cell_type": "code",
   "execution_count": 33,
   "id": "4e82b410-ff94-4a61-ad01-d289039b1e54",
   "metadata": {},
   "outputs": [
    {
     "data": {
      "text/plain": [
       "Index(['TGTGCCAGCAGCGGTAGGGGGACACTATTGGGCACCTTC', 'CASSGRGTLLGTF', 'TRBV7-9',\n",
       "       'TRBJ1-2'],\n",
       "      dtype='object')"
      ]
     },
     "execution_count": 33,
     "metadata": {},
     "output_type": "execute_result"
    }
   ],
   "source": [
    "data.columns"
   ]
  },
  {
   "cell_type": "code",
   "execution_count": 34,
   "id": "d5cbe9b4-2b5c-425a-9f4b-8efba314630b",
   "metadata": {},
   "outputs": [
    {
     "data": {
      "text/html": [
       "<div>\n",
       "<style scoped>\n",
       "    .dataframe tbody tr th:only-of-type {\n",
       "        vertical-align: middle;\n",
       "    }\n",
       "\n",
       "    .dataframe tbody tr th {\n",
       "        vertical-align: top;\n",
       "    }\n",
       "\n",
       "    .dataframe thead th {\n",
       "        text-align: right;\n",
       "    }\n",
       "</style>\n",
       "<table border=\"1\" class=\"dataframe\">\n",
       "  <thead>\n",
       "    <tr style=\"text-align: right;\">\n",
       "      <th></th>\n",
       "      <th>TGTGCCAGCAGCGGTAGGGGGACACTATTGGGCACCTTC</th>\n",
       "      <th>CASSGRGTLLGTF</th>\n",
       "      <th>TRBV7-9</th>\n",
       "      <th>TRBJ1-2</th>\n",
       "    </tr>\n",
       "  </thead>\n",
       "  <tbody>\n",
       "    <tr>\n",
       "      <th>0</th>\n",
       "      <td>TGTGGACGGAAGGACGAGCAGTACTTC</td>\n",
       "      <td>CGRKDEQYF</td>\n",
       "      <td>TRBV20-1</td>\n",
       "      <td>TRBJ2-7</td>\n",
       "    </tr>\n",
       "    <tr>\n",
       "      <th>1</th>\n",
       "      <td>TGCAGTGCTCGGGGCGTCTTCTCTGAAGCTTTCTTT</td>\n",
       "      <td>CSARGVFSEAFF</td>\n",
       "      <td>TRBV20-1</td>\n",
       "      <td>TRBJ1-1</td>\n",
       "    </tr>\n",
       "    <tr>\n",
       "      <th>2</th>\n",
       "      <td>TGTGCCACCAATGACAGGGGGCGCACCTACAATGAGCAGTTCTTC</td>\n",
       "      <td>CATNDRGRTYNEQFF</td>\n",
       "      <td>TRBV24-1</td>\n",
       "      <td>TRBJ2-1</td>\n",
       "    </tr>\n",
       "    <tr>\n",
       "      <th>3</th>\n",
       "      <td>TGTGCCAGCAGTTTAGCTGGACTAGCGGGTTGTCGGAAGTTGACGG...</td>\n",
       "      <td>CASSLAGLAGCRKLTEETQYF</td>\n",
       "      <td>TRBV27</td>\n",
       "      <td>TRBJ2-5</td>\n",
       "    </tr>\n",
       "    <tr>\n",
       "      <th>4</th>\n",
       "      <td>TGTGCCAGCAGCGTAGCAGGGGCGGGGAGTAGCTCCTACGAGCAGT...</td>\n",
       "      <td>CASSVAGAGSSSYEQYF</td>\n",
       "      <td>TRBV9</td>\n",
       "      <td>TRBJ2-7</td>\n",
       "    </tr>\n",
       "  </tbody>\n",
       "</table>\n",
       "</div>"
      ],
      "text/plain": [
       "             TGTGCCAGCAGCGGTAGGGGGACACTATTGGGCACCTTC          CASSGRGTLLGTF  \\\n",
       "0                        TGTGGACGGAAGGACGAGCAGTACTTC              CGRKDEQYF   \n",
       "1               TGCAGTGCTCGGGGCGTCTTCTCTGAAGCTTTCTTT           CSARGVFSEAFF   \n",
       "2      TGTGCCACCAATGACAGGGGGCGCACCTACAATGAGCAGTTCTTC        CATNDRGRTYNEQFF   \n",
       "3  TGTGCCAGCAGTTTAGCTGGACTAGCGGGTTGTCGGAAGTTGACGG...  CASSLAGLAGCRKLTEETQYF   \n",
       "4  TGTGCCAGCAGCGTAGCAGGGGCGGGGAGTAGCTCCTACGAGCAGT...      CASSVAGAGSSSYEQYF   \n",
       "\n",
       "    TRBV7-9  TRBJ1-2  \n",
       "0  TRBV20-1  TRBJ2-7  \n",
       "1  TRBV20-1  TRBJ1-1  \n",
       "2  TRBV24-1  TRBJ2-1  \n",
       "3    TRBV27  TRBJ2-5  \n",
       "4     TRBV9  TRBJ2-7  "
      ]
     },
     "execution_count": 34,
     "metadata": {},
     "output_type": "execute_result"
    }
   ],
   "source": [
    "data.head()"
   ]
  },
  {
   "cell_type": "markdown",
   "id": "44933dcf-9f84-4e26-8b13-36283f136668",
   "metadata": {},
   "source": [
    "### 1.2 Построение графика"
   ]
  },
  {
   "cell_type": "code",
   "execution_count": 35,
   "id": "79c4d8a0-cf05-4fb2-846e-f5e6108ba82c",
   "metadata": {},
   "outputs": [
    {
     "data": {
      "text/plain": [
       "Text(0.5, 1.0, 'Гистограмма количества повторений значений')"
      ]
     },
     "execution_count": 35,
     "metadata": {},
     "output_type": "execute_result"
    },
    {
     "data": {
      "image/png": "[encoded data removed]",
      "text/plain": [
       "<Figure size 864x432 with 1 Axes>"
      ]
     },
     "metadata": {
      "needs_background": "light"
     },
     "output_type": "display_data"
    }
   ],
   "source": [
    "plt.figure(figsize=(12, 6))\n",
    "value_counts = data['TRBJ1-2'].value_counts().sort_index()\n",
    "plt.bar(value_counts.index, value_counts.values)\n",
    "plt.xlabel('Значения')\n",
    "plt.ylabel('Количество повторений')\n",
    "plt.title('Гистограмма количества повторений значений')\n"
   ]
  },
  {
   "cell_type": "markdown",
   "id": "4dc77da5-626a-4e1b-ba4c-a809bd014bd9",
   "metadata": {},
   "source": [
    "## 1.2 Картинка"
   ]
  },
  {
   "cell_type": "markdown",
   "id": "8b2183c1-9369-4cea-8b8e-f1fb41a67116",
   "metadata": {},
   "source": [
    "![Моя фотография](фото.jpg)"
   ]
  },
  {
   "cell_type": "code",
   "execution_count": null,
   "id": "e6771f33-95c4-4db8-912f-85ff63aaf43d",
   "metadata": {},
   "outputs": [],
   "source": []
  }
 ],
 "metadata": {
  "kernelspec": {
   "display_name": "Python 3 (ipykernel)",
   "language": "python",
   "name": "python3"
  },
  "language_info": {
   "codemirror_mode": {
    "name": "ipython",
    "version": 3
   },
   "file_extension": ".py",
   "mimetype": "text/x-python",
   "name": "python",
   "nbconvert_exporter": "python",
   "pygments_lexer": "ipython3",
   "version": "3.8.12"
  }
 },
 "nbformat": 4,
 "nbformat_minor": 5
}
